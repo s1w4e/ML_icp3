{
  "nbformat": 4,
  "nbformat_minor": 0,
  "metadata": {
    "colab": {
      "provenance": [],
      "authorship_tag": "ABX9TyP7/exn3HyC5ken/kLwb95D",
      "include_colab_link": true
    },
    "kernelspec": {
      "name": "python3",
      "display_name": "Python 3"
    },
    "language_info": {
      "name": "python"
    }
  },
  "cells": [
    {
      "cell_type": "markdown",
      "metadata": {
        "id": "view-in-github",
        "colab_type": "text"
      },
      "source": [
        "<a href=\"https://colab.research.google.com/github/s1w4e/ML_icp3/blob/main/ML_icp3.ipynb\" target=\"_parent\"><img src=\"https://colab.research.google.com/assets/colab-badge.svg\" alt=\"Open In Colab\"/></a>"
      ]
    },
    {
      "cell_type": "markdown",
      "source": [
        "a.Using Numpy create  random vector of size 15 having only Integers in the range 1-20.\n",
        "  1.Reshaping the array to 3 by 5\n",
        "  2.print array shape\n",
        "  3.Replacing the max in each row by 0"
      ],
      "metadata": {
        "id": "KfQLg3pXt5Vf"
      }
    },
    {
      "cell_type": "code",
      "source": [
        "import numpy as np\n",
        "#creating a random vetor\n",
        "integer_array = np.random.randint(1,21,15)\n",
        "print(integer_array)\n",
        "\n",
        "#reshaping the array\n",
        "reshape_array=integer_array.reshape(3,5)\n",
        "print('reshape array:\\n',reshape_array)\n",
        "\n",
        "#to print the shape of array\n",
        "print('shape:\\n',reshape_array.shape)\n",
        "\n",
        "# Find the index of the maximum value in each row\n",
        "max_indices = np.argmax(reshape_array, axis=1)\n",
        "\n",
        "# Set the maximum values in each row to 0\n",
        "reshape_array[np.arange(reshape_array.shape[0]), max_indices] = 0\n",
        "print(reshape_array)"
      ],
      "metadata": {
        "colab": {
          "base_uri": "https://localhost:8080/"
        },
        "id": "NQyeXbrVwk7J",
        "outputId": "11431c08-8a3f-41d1-d3ac-f56710108c3c"
      },
      "execution_count": null,
      "outputs": [
        {
          "output_type": "stream",
          "name": "stdout",
          "text": [
            "[12 13  1 16  6  8  6  4  3  1 13 15  8 20 19]\n",
            "reshape array:\n",
            " [[12 13  1 16  6]\n",
            " [ 8  6  4  3  1]\n",
            " [13 15  8 20 19]]\n",
            "shape:\n",
            " (3, 5)\n",
            "[[12 13  1  0  6]\n",
            " [ 0  6  4  3  1]\n",
            " [13 15  8  0 19]]\n"
          ]
        }
      ]
    },
    {
      "cell_type": "markdown",
      "source": [
        "Create a 2-dimensional array of size 4 x 3 (composed of 4-byte integer elements), also print the shape, type and data type of the array"
      ],
      "metadata": {
        "id": "_uITpwOK6sZX"
      }
    },
    {
      "cell_type": "code",
      "source": [
        "import numpy as np\n",
        "#array of size 4x3\n",
        "array = np.array([[1,2,3], [4,5,6],[7,8,9],[10,11,12]], np.int32)\n",
        "\n",
        "# Displaying the shape of the NumPy array (number of rows, number of columns)\n",
        "print('shape of array:',array.shape)\n",
        "\n",
        "# displaying the type of array\n",
        "print('type of array:',type(array))\n",
        "\n",
        "# Displaying the data type of the elements in the array\n",
        "print('dataype:',array.dtype)"
      ],
      "metadata": {
        "colab": {
          "base_uri": "https://localhost:8080/"
        },
        "id": "p0jdmEdu68Gm",
        "outputId": "6bfaabfd-4afc-4dd0-cb77-fc91ef6353f0"
      },
      "execution_count": null,
      "outputs": [
        {
          "output_type": "stream",
          "name": "stdout",
          "text": [
            "shape of array: (4, 3)\n",
            "type of array: <class 'numpy.ndarray'>\n",
            "dataype: int32\n"
          ]
        }
      ]
    },
    {
      "cell_type": "markdown",
      "source": [
        "b.write a program to compute the eigenvalues and right eigenvectors of a given square array given below:\n",
        "[[3 -2]\n",
        "[1 0]]"
      ],
      "metadata": {
        "id": "CTI0p0Zh9wzU"
      }
    },
    {
      "cell_type": "code",
      "source": [
        "import numpy as np\n",
        "\n",
        "m = np.array([[3,-2],[1,0]])\n",
        "\n",
        "# Display the original matrix 'm'\n",
        "print(\"Original matrix:\",m)\n",
        "\n",
        "# Compute the eigenvalues and eigenvectors of the matrix 'm' using np.linalg.eig() function\n",
        "e, v = np.linalg.eig(m)\n",
        "\n",
        "print(\"Eigenvalues of the said matrix:\", e)\n",
        "\n",
        "print(\"Eigenvectors of the said matrix:\", v)"
      ],
      "metadata": {
        "colab": {
          "base_uri": "https://localhost:8080/"
        },
        "id": "6db1nePX-Gs_",
        "outputId": "d2f019c7-c2cc-479c-bcce-6421461ebfd7"
      },
      "execution_count": null,
      "outputs": [
        {
          "output_type": "stream",
          "name": "stdout",
          "text": [
            "Original matrix: [[ 3 -2]\n",
            " [ 1  0]]\n",
            "Eigenvalues of the said matrix: [2. 1.]\n",
            "Eigenvectors of the said matrix: [[0.89442719 0.70710678]\n",
            " [0.4472136  0.70710678]]\n"
          ]
        }
      ]
    },
    {
      "cell_type": "markdown",
      "source": [
        "c.Compute the sum of the diagonal element of a given array\n",
        "  [[0 1 2]\n",
        "  [3 4 5]]"
      ],
      "metadata": {
        "id": "8uIv8k_LtjrJ"
      }
    },
    {
      "cell_type": "code",
      "execution_count": null,
      "metadata": {
        "colab": {
          "base_uri": "https://localhost:8080/"
        },
        "id": "MT7pgsk6syvB",
        "outputId": "70de0ba3-a43b-4997-9813-52794eb45ae9"
      },
      "outputs": [
        {
          "output_type": "stream",
          "name": "stdout",
          "text": [
            "[[0 1 2]\n",
            " [3 4 5]]\n",
            "\n",
            "Diagonal elements are: [0 4]\n",
            "\n",
            "Sum of Diagonal elements is: 4\n"
          ]
        }
      ],
      "source": [
        "import numpy as np\n",
        "\n",
        "# creating a 2x3 Numpy matrix\n",
        "new_array = np.array([[0, 1, 2],\n",
        "                    [3, 4, 5]])\n",
        "print(new_array)\n",
        "\n",
        "# Finding the diagonal elements of a matrix\n",
        "diag = np.diagonal(new_array)\n",
        "print(\"\\nDiagonal elements are:\",diag)\n",
        "\n",
        "print(\"\\nSum of Diagonal elements is:\",sum(diag))"
      ]
    },
    {
      "cell_type": "markdown",
      "source": [
        "d.write a NumPy program to create a new shape to an array without changing its data"
      ],
      "metadata": {
        "id": "Ov7bzVqVBRsP"
      }
    },
    {
      "cell_type": "code",
      "source": [
        "import numpy as np\n",
        "array=np.array([[1,2],[3,4],[5,6]])\n",
        "print('original array:\\n',array)\n",
        "reshape=array.reshape(2,3)\n",
        "print('reshape array:\\n',reshape)\n",
        "array1=np.array([[1,2,3],[4,5,6]])\n",
        "print('original array1:\\n',array1)\n",
        "reshape1=array.reshape(3,2)\n",
        "print('reshape array:\\n',reshape1)\n",
        "try:\n",
        "    new_arr = array.reshape(3, 4)  # Attempt to reshape the array into an incompatible shape\n",
        "    print(\"\\nReshaped array:\\n\", new_arr)\n",
        "except ValueError as e:\n",
        "    print(\"\\nError:\", e)"
      ],
      "metadata": {
        "colab": {
          "base_uri": "https://localhost:8080/"
        },
        "id": "TM5u_r6MB9Dc",
        "outputId": "cd280423-0c87-4000-9b58-3761afc93221"
      },
      "execution_count": null,
      "outputs": [
        {
          "output_type": "stream",
          "name": "stdout",
          "text": [
            "original array:\n",
            " [[1 2]\n",
            " [3 4]\n",
            " [5 6]]\n",
            "reshape array:\n",
            " [[1 2 3]\n",
            " [4 5 6]]\n",
            "original array1:\n",
            " [[1 2 3]\n",
            " [4 5 6]]\n",
            "reshape array:\n",
            " [[1 2]\n",
            " [3 4]\n",
            " [5 6]]\n",
            "\n",
            "Error: cannot reshape array of size 6 into shape (3,4)\n"
          ]
        }
      ]
    }
  ]
}